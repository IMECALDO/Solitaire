{
 "cells": [
  {
   "attachments": {},
   "cell_type": "markdown",
   "metadata": {},
   "source": [
    "### Carlos Magallanes-Aranda\n",
    "Code to check the probability of loosing instantly"
   ]
  },
  {
   "cell_type": "code",
   "execution_count": 249,
   "metadata": {},
   "outputs": [],
   "source": [
    "import numpy as np\n",
    "import matplotlib.pyplot as plt\n",
    "from tqdm import tqdm"
   ]
  },
  {
   "cell_type": "code",
   "execution_count": 250,
   "metadata": {},
   "outputs": [
    {
     "data": {
      "text/plain": [
       "array([ 1000000.        ,  1291549.66501488,  1668100.53720006,\n",
       "        2154434.69003188,  2782559.40220713,  3593813.66380463,\n",
       "        4641588.83361278,  5994842.50318941,  7742636.82681128,\n",
       "       10000000.        ])"
      ]
     },
     "execution_count": 250,
     "metadata": {},
     "output_type": "execute_result"
    }
   ],
   "source": [
    "# for test in easy mode, length_deck = 24\n",
    "# for test in hard mode, length_deck = 8\n",
    "\n",
    "# Create variables for the game\n",
    "\n",
    "length_deck = 24\n",
    "cards_deck = np.zeros(length_deck)\n",
    "cards_up = np.zeros(7)\n",
    "used = np.zeros(7+length_deck)\n",
    "\n",
    "# 0 = black, 1 = red\n",
    "color_up = [0,0,0,0,0,0,0]\n",
    "\n",
    "# Amount of tests\n",
    "tests = np.logspace(6,7,num=10)\n",
    "\n",
    "# Variables to check montecarlo method\n",
    "Games_lost = np.zeros(len(tests),dtype=int)\n",
    "percentages = np.zeros(len(tests))\n",
    "tests"
   ]
  },
  {
   "cell_type": "code",
   "execution_count": 251,
   "metadata": {},
   "outputs": [],
   "source": [
    "def show(cards_up,cards_deck):\n",
    "      # array that shows cards\n",
    "      #cards = (\"KB1\",\"QB1\",\"JB1\",\"10B1\",\"9B1\",\"8B1\",\"7B1\",\"6B1\",\"5B1\",\"4B1\",\"3B1\",\"2B1\",\"AB1\",\n",
    "      #            \"KB2\",\"QB2\",\"JB2\",\"10B2\",\"9B2\",\"8B2\",\"7B2\",\"6B2\",\"5B2\",\"4B2\",\"3B2\",\"2B2\",\"AB2\",\n",
    "      #            \"KW1\",\"QW1\",\"JW1\",\"10W1\",\"9W1\",\"8W1\",\"7W1\",\"6W1\",\"5W1\",\"4W1\",\"3W1\",\"2W1\",\"AW1\",\n",
    "      #            \"KW2\",\"QW2\",\"JW2\",\"10W2\",\"9W2\",\"8W2\",\"7W2\",\"6W2\",\"5W2\",\"4W2\",\"3W2\",\"2W2\",\"AW2\")\n",
    "\n",
    "      cards = (\"KB\",\"QB\",\"JB\",\"10B\",\"9B\",\"8B\",\"7B\",\"6B\",\"5B\",\"4B\",\"3B\",\"2B\",\"AB\",\n",
    "            \"KB\",\"QB\",\"JB\",\"10B\",\"9B\",\"8B\",\"7B\",\"6B\",\"5B\",\"4B\",\"3B\",\"2B\",\"AB\",\n",
    "            \"KW\",\"QW\",\"JW\",\"10W\",\"9W\",\"8W\",\"7W\",\"6W\",\"5W\",\"4W\",\"3W\",\"2W\",\"AW\",\n",
    "            \"KW\",\"QW\",\"JW\",\"10W\",\"9W\",\"8W\",\"7W\",\"6W\",\"5W\",\"4W\",\"3W\",\"2W\",\"AW\",)\n",
    "      for i in range(len(cards_up)):\n",
    "            print(cards[cards_up[i]],end=\" \")\n",
    "      print(\"\")\n",
    "      for i in range(len(cards_deck)):\n",
    "            print(cards[cards_deck[i]],end=\" \")"
   ]
  },
  {
   "cell_type": "code",
   "execution_count": 252,
   "metadata": {},
   "outputs": [],
   "source": [
    "def play(counter,length_deck,cards_deck,cards_up,used,used_shape,color_up):\n",
    "    # Setup\n",
    "    # Random setup for all the tests\n",
    "    used = np.random.choice(52,used_shape , replace=False)\n",
    "\n",
    "    # test for any ace (possible move)\n",
    "    ace = np.isin(used,[12,25,38,51])\n",
    "    if ace.any() == True:\n",
    "        counter += 1\n",
    "        return counter\n",
    "\n",
    "    # Split into arrays\n",
    "    cards_deck = used[:length_deck]\n",
    "    cards_up = used[length_deck:]\n",
    "\n",
    "    # Save the colors for the cards up\n",
    "    for i in range(7):\n",
    "        if cards_up[i] > 25:\n",
    "            color_up[i] = 1\n",
    "\n",
    "    for i in range(length_deck):\n",
    "\n",
    "        # Type of card (independently from the color)\n",
    "        card_rem = cards_deck[i]%13   \n",
    "\n",
    "        if cards_deck[i] > 25:\n",
    "            color_card = 1\n",
    "        else:\n",
    "            color_card = 0\n",
    "\n",
    "        # Check if the card is a King\n",
    "        # Doesn't connect if it is a King\n",
    "        if card_rem != 0:\n",
    "            for ii in range(7):\n",
    "                #Check is the colors mismatch\n",
    "                if color_card != color_up[ii]:\n",
    "                    # Check if they can be joined\n",
    "                    temp = [0,13,26,39] + np.ones(4)*(card_rem-1)\n",
    "                    join = np.isin(cards_up[ii],temp)\n",
    "                    if join.any() == True:\n",
    "                        counter += 1\n",
    "                        return counter\n",
    "    # Function to show the deck of a lost game\n",
    "    #show(cards_up,cards_deck)\n",
    "    return(counter)\n"
   ]
  },
  {
   "cell_type": "code",
   "execution_count": 253,
   "metadata": {},
   "outputs": [
    {
     "name": "stdout",
     "output_type": "stream",
     "text": [
      "1/10\n"
     ]
    },
    {
     "name": "stderr",
     "output_type": "stream",
     "text": [
      "100%|██████████| 1000000/1000000 [00:26<00:00, 37934.72it/s]\n"
     ]
    },
    {
     "name": "stdout",
     "output_type": "stream",
     "text": [
      "2/10\n"
     ]
    },
    {
     "name": "stderr",
     "output_type": "stream",
     "text": [
      "100%|██████████| 1291549/1291549 [00:34<00:00, 37471.18it/s]\n"
     ]
    },
    {
     "name": "stdout",
     "output_type": "stream",
     "text": [
      "3/10\n"
     ]
    },
    {
     "name": "stderr",
     "output_type": "stream",
     "text": [
      "100%|██████████| 1668100/1668100 [00:44<00:00, 37471.07it/s]\n"
     ]
    },
    {
     "name": "stdout",
     "output_type": "stream",
     "text": [
      "4/10\n"
     ]
    },
    {
     "name": "stderr",
     "output_type": "stream",
     "text": [
      "100%|██████████| 2154434/2154434 [00:57<00:00, 37307.52it/s]\n"
     ]
    },
    {
     "name": "stdout",
     "output_type": "stream",
     "text": [
      "5/10\n"
     ]
    },
    {
     "name": "stderr",
     "output_type": "stream",
     "text": [
      "100%|██████████| 2782559/2782559 [01:14<00:00, 37454.67it/s]\n"
     ]
    },
    {
     "name": "stdout",
     "output_type": "stream",
     "text": [
      "6/10\n"
     ]
    },
    {
     "name": "stderr",
     "output_type": "stream",
     "text": [
      "100%|██████████| 3593813/3593813 [01:45<00:00, 33920.70it/s]\n"
     ]
    },
    {
     "name": "stdout",
     "output_type": "stream",
     "text": [
      "7/10\n"
     ]
    },
    {
     "name": "stderr",
     "output_type": "stream",
     "text": [
      "100%|██████████| 4641588/4641588 [02:16<00:00, 33910.20it/s]\n"
     ]
    },
    {
     "name": "stdout",
     "output_type": "stream",
     "text": [
      "8/10\n"
     ]
    },
    {
     "name": "stderr",
     "output_type": "stream",
     "text": [
      "100%|██████████| 5994842/5994842 [03:43<00:00, 26869.38it/s]\n"
     ]
    },
    {
     "name": "stdout",
     "output_type": "stream",
     "text": [
      "9/10\n"
     ]
    },
    {
     "name": "stderr",
     "output_type": "stream",
     "text": [
      "100%|██████████| 7742636/7742636 [11:12<00:00, 11512.91it/s]\n"
     ]
    },
    {
     "name": "stdout",
     "output_type": "stream",
     "text": [
      "10/10\n"
     ]
    },
    {
     "name": "stderr",
     "output_type": "stream",
     "text": [
      "100%|██████████| 10000000/10000000 [1:07:11<00:00, 2480.69it/s]  \n"
     ]
    },
    {
     "data": {
      "text/plain": [
       "array([ 16,  18,  19,  28,  39,  48,  69,  75, 102, 147])"
      ]
     },
     "execution_count": 253,
     "metadata": {},
     "output_type": "execute_result"
    }
   ],
   "source": [
    "def test(tests,Games_lost):\n",
    "    for ii in range(len(tests)):\n",
    "        counter = 0\n",
    "        print(str(ii+1) + \"/\" + str(len(tests)))\n",
    "        for i in tqdm(range(int(tests[ii]))):\n",
    "            counter = play(counter,length_deck,cards_deck,cards_up,used,used.shape,color_up)\n",
    "        Games_lost[ii] = tests[ii]-counter\n",
    "    return(Games_lost)\n",
    "test(tests,Games_lost)"
   ]
  },
  {
   "cell_type": "code",
   "execution_count": 254,
   "metadata": {},
   "outputs": [
    {
     "data": {
      "text/plain": [
       "<function matplotlib.pyplot.show(close=None, block=None)>"
      ]
     },
     "execution_count": 254,
     "metadata": {},
     "output_type": "execute_result"
    },
    {
     "data": {
      "image/png": "[encoded data removed]",
      "text/plain": [
       "<Figure size 900x600 with 1 Axes>"
      ]
     },
     "metadata": {},
     "output_type": "display_data"
    }
   ],
   "source": [
    "total_tests = np.zeros(len(tests),dtype=int)\n",
    "total_losts = np.zeros(len(tests),dtype=int)\n",
    "for i in range(len(tests)):\n",
    "    if i > 0:\n",
    "        c = 2\n",
    "        total_tests[i] = total_tests[i-1] + tests[i]\n",
    "        total_losts[i] = total_losts[i-1] + Games_lost[i]\n",
    "    else:\n",
    "        total_losts[i] = Games_lost[i]\n",
    "        total_tests[i] = tests[i]\n",
    "percentages = total_losts/total_tests*100\n",
    "\n",
    "fig,ax = plt.subplots(figsize = (9, 6))\n",
    "ax.scatter(total_tests,percentages)\n",
    "ax.set_xscale(\"log\")\n",
    "\n",
    "plt.show"
   ]
  }
 ],
 "metadata": {
  "kernelspec": {
   "display_name": "Python 3",
   "language": "python",
   "name": "python3"
  },
  "language_info": {
   "codemirror_mode": {
    "name": "ipython",
    "version": 3
   },
   "file_extension": ".py",
   "mimetype": "text/x-python",
   "name": "python",
   "nbconvert_exporter": "python",
   "pygments_lexer": "ipython3",
   "version": "3.10.11"
  },
  "orig_nbformat": 4
 },
 "nbformat": 4,
 "nbformat_minor": 2
}
